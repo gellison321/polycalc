{
 "cells": [
  {
   "cell_type": "code",
   "execution_count": 2,
   "id": "70c4d0cf-98d7-41fa-a5b6-94fe256ab102",
   "metadata": {},
   "outputs": [],
   "source": [
    "from polycalc.Polynomial import Polynomial"
   ]
  },
  {
   "attachments": {},
   "cell_type": "markdown",
   "id": "c2ca0769",
   "metadata": {},
   "source": [
    "## Generating first order polynomials"
   ]
  },
  {
   "attachments": {},
   "cell_type": "markdown",
   "id": "48f626b7",
   "metadata": {},
   "source": [
    "$ a = x^2 + 2x + 3$  \n",
    "$ b = 2x^2 + 3x + 4$"
   ]
  },
  {
   "cell_type": "code",
   "execution_count": 3,
   "id": "1cec721b",
   "metadata": {},
   "outputs": [],
   "source": [
    "a = Polynomial([3,2,1])\n",
    "b = Polynomial([4,3,2])"
   ]
  },
  {
   "attachments": {},
   "cell_type": "markdown",
   "id": "c453b5ac",
   "metadata": {},
   "source": [
    "## Evaluating Polynomial at x"
   ]
  },
  {
   "attachments": {},
   "cell_type": "markdown",
   "id": "fd97862b",
   "metadata": {},
   "source": [
    "$\\implies a(2) = 2^2 + 2*2 + 3 = 11$"
   ]
  },
  {
   "cell_type": "code",
   "execution_count": 4,
   "id": "eb41dfc0",
   "metadata": {},
   "outputs": [],
   "source": [
    "evaluation = a.evaluate(2)\n",
    "assert evaluation == 11"
   ]
  },
  {
   "attachments": {},
   "cell_type": "markdown",
   "id": "17213001",
   "metadata": {},
   "source": [
    "## Plotting the polynomial"
   ]
  },
  {
   "cell_type": "code",
   "execution_count": 9,
   "id": "8640e1cc",
   "metadata": {},
   "outputs": [
    {
     "data": {
      "image/png": "[encoded data removed]",
      "text/plain": [
       "<Figure size 432x288 with 1 Axes>"
      ]
     },
     "metadata": {
      "needs_background": "light"
     },
     "output_type": "display_data"
    }
   ],
   "source": [
    "import matplotlib.pyplot as plt\n",
    "import numpy as np\n",
    "plt.plot([a.evaluate(x) for x in np.arange(-10, 10, 0.1)]);"
   ]
  },
  {
   "attachments": {},
   "cell_type": "markdown",
   "id": "fcdead08",
   "metadata": {},
   "source": [
    "## Adding two polynomials"
   ]
  },
  {
   "attachments": {},
   "cell_type": "markdown",
   "id": "c894433e",
   "metadata": {},
   "source": [
    "$\\implies b+a = 3x^2 + 5x + 7$"
   ]
  },
  {
   "cell_type": "code",
   "execution_count": null,
   "id": "de300d57",
   "metadata": {},
   "outputs": [],
   "source": [
    "c = b.add(a)\n",
    "assert np.array_equal(c.co, [7, 5, 3])"
   ]
  },
  {
   "attachments": {},
   "cell_type": "markdown",
   "id": "a2275fe9",
   "metadata": {},
   "source": [
    "## Subtracting Polynomials"
   ]
  },
  {
   "attachments": {},
   "cell_type": "markdown",
   "id": "60dc96b6",
   "metadata": {},
   "source": [
    "$\\implies b-a = x^2 + x + 1$"
   ]
  },
  {
   "cell_type": "code",
   "execution_count": null,
   "id": "01d74b75",
   "metadata": {},
   "outputs": [],
   "source": [
    "c = b.subtract(a)\n",
    "assert np.array_equal(c.co, [1,1,1])"
   ]
  },
  {
   "attachments": {},
   "cell_type": "markdown",
   "id": "f8c01b07",
   "metadata": {},
   "source": [
    "## Multiplying Polynomials"
   ]
  },
  {
   "attachments": {},
   "cell_type": "markdown",
   "id": "f8ea5c78",
   "metadata": {},
   "source": [
    "$\\implies b*a = 2x^4 + 7x^3 + 16x^2 + 17x + 12$"
   ]
  },
  {
   "cell_type": "code",
   "execution_count": null,
   "id": "fa083426",
   "metadata": {},
   "outputs": [],
   "source": [
    "c = a.multiply(b)\n",
    "assert np.array_equal(c.co, [12,17,16,7,2])"
   ]
  },
  {
   "attachments": {},
   "cell_type": "markdown",
   "id": "6b41a9d3",
   "metadata": {},
   "source": [
    "## Dividing Polynomial by a Scalar"
   ]
  },
  {
   "attachments": {},
   "cell_type": "markdown",
   "id": "cc246eec",
   "metadata": {},
   "source": [
    "$\\implies b/a = 2x^2 + 3/2x + 1$"
   ]
  },
  {
   "cell_type": "code",
   "execution_count": null,
   "id": "ce9618c1",
   "metadata": {},
   "outputs": [],
   "source": [
    "c = b.scalar_divide(2)\n",
    "assert np.array_equal(c.co, [2,3/2,1])"
   ]
  },
  {
   "attachments": {},
   "cell_type": "markdown",
   "id": "6938200e",
   "metadata": {},
   "source": [
    "## Finding Derivative of Polynomial"
   ]
  },
  {
   "attachments": {},
   "cell_type": "markdown",
   "id": "77394de1",
   "metadata": {},
   "source": [
    "$\\implies a'(x) = 2x + 2 $"
   ]
  },
  {
   "cell_type": "code",
   "execution_count": null,
   "id": "1f0c4cc9",
   "metadata": {},
   "outputs": [],
   "source": [
    "c = a.derive()\n",
    "assert np.array_equal(c.co, [2,2])"
   ]
  },
  {
   "attachments": {},
   "cell_type": "markdown",
   "id": "9fdb9355",
   "metadata": {},
   "source": [
    "## Any Order Derivative"
   ]
  },
  {
   "attachments": {},
   "cell_type": "markdown",
   "id": "c45b2c83",
   "metadata": {},
   "source": [
    "$\\implies a''(x) = 2 = c'(x)$"
   ]
  },
  {
   "cell_type": "code",
   "execution_count": null,
   "id": "7a0c9582",
   "metadata": {},
   "outputs": [],
   "source": [
    "c_prime = c.derive()\n",
    "assert np.array_equal(c_prime.co, a.derive().derive().co)"
   ]
  },
  {
   "attachments": {},
   "cell_type": "markdown",
   "id": "e1c43bc4",
   "metadata": {},
   "source": [
    "## Finding Antiderivative of a Polynomial"
   ]
  },
  {
   "attachments": {},
   "cell_type": "markdown",
   "id": "8d07d5d3",
   "metadata": {},
   "source": [
    "$ \\int a dx = \\frac{1}{3}x^3 + x^2 + 3x$"
   ]
  },
  {
   "cell_type": "code",
   "execution_count": null,
   "id": "e0931e08",
   "metadata": {},
   "outputs": [],
   "source": [
    "anti_a = a.antiderive()\n",
    "assert np.array_equal(anti_a.co, [0,3,1,1/3])"
   ]
  },
  {
   "attachments": {},
   "cell_type": "markdown",
   "id": "96b04b7b",
   "metadata": {},
   "source": [
    "## Any Order Antiderivative"
   ]
  },
  {
   "attachments": {},
   "cell_type": "markdown",
   "id": "d9749ff6",
   "metadata": {},
   "source": [
    "$ \\int\\int a dx = \\frac{1}{12}x^4 + \\frac{1}{3}x^3 + \\frac{3}{2}x^2$"
   ]
  },
  {
   "cell_type": "code",
   "execution_count": null,
   "id": "79700cb3",
   "metadata": {},
   "outputs": [],
   "source": [
    "double_anti_a = a.antiderive().antiderive()\n",
    "assert np.array_equal(double_anti_a.co, [0,0,3/2,1/3,1/12])"
   ]
  },
  {
   "attachments": {},
   "cell_type": "markdown",
   "id": "f5f0b971",
   "metadata": {},
   "source": [
    "## Integrate Along the X Axis"
   ]
  },
  {
   "attachments": {},
   "cell_type": "markdown",
   "id": "e255afef",
   "metadata": {},
   "source": [
    "$\\int_{0}^{10} a dx = \\int a  dx (10) -  \\int a dx(0) + c $"
   ]
  },
  {
   "cell_type": "code",
   "execution_count": null,
   "id": "c32bcf79",
   "metadata": {},
   "outputs": [],
   "source": [
    "def_int_a = a.integrate_x_axis(0,10)\n",
    "assert round(def_int_a ,4)== 463.3333"
   ]
  },
  {
   "attachments": {},
   "cell_type": "markdown",
   "id": "ba77cfc3",
   "metadata": {},
   "source": [
    "## Future Development"
   ]
  },
  {
   "attachments": {},
   "cell_type": "markdown",
   "id": "23cb12c8",
   "metadata": {},
   "source": [
    "1. Handling negative exponents\n",
    "2. Polynomial Division\n",
    "3. Solving for roots\n",
    "4. Solving for polynominal intersections\n",
    "5. Integrating between two curves\n",
    "6. Multivariate polynomials\n",
    "7. Taylor polynomial expansion - fit to data"
   ]
  }
 ],
 "metadata": {
  "kernelspec": {
   "display_name": "Python 3 (ipykernel)",
   "language": "python",
   "name": "python3"
  },
  "language_info": {
   "codemirror_mode": {
    "name": "ipython",
    "version": 3
   },
   "file_extension": ".py",
   "mimetype": "text/x-python",
   "name": "python",
   "nbconvert_exporter": "python",
   "pygments_lexer": "ipython3",
   "version": "3.9.1"
  }
 },
 "nbformat": 4,
 "nbformat_minor": 5
}
